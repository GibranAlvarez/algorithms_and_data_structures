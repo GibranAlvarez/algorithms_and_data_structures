{
 "cells": [
  {
   "cell_type": "markdown",
   "metadata": {},
   "source": [
    "# Practice Interview\n",
    "\n",
    "## Objective\n",
    "\n",
    "_*The partner assignment aims to provide participants with the opportunity to practice coding in an interview context. You will analyze your partner's Assignment 1. Moreover, code reviews are common practice in a software development team. This assignment should give you a taste of the code review process.*_\n",
    "\n",
    "## Group Size\n",
    "\n",
    "Each group should have 2 people. You will be assigned a partner\n",
    "\n",
    "## Part 1:\n",
    "\n",
    "You and your partner must share each other's Assignment 1 submission."
   ]
  },
  {
   "cell_type": "markdown",
   "metadata": {},
   "source": [
    "\n",
    "## Part 2:\n",
    "\n",
    "Create a Jupyter Notebook, create 6 of the following headings, and complete the following for your partner's assignment 1:\n",
    "\n",
    "-   Paraphrase the problem in your own words.\n"
   ]
  },
  {
   "cell_type": "markdown",
   "metadata": {},
   "source": [
    "Your answer here:\n",
    "    \n",
    "    Find all the possible routes from a given root to its leafs "
   ]
  },
  {
   "cell_type": "markdown",
   "metadata": {},
   "source": [
    "\n",
    "-   Create 1 new example that demonstrates you understand the problem. Trace/walkthrough 1 example that your partner made and explain it.\n"
   ]
  },
  {
   "attachments": {
    "image.png": {
     "image/png": "[encoded data removed]"
    }
   },
   "cell_type": "markdown",
   "metadata": {},
   "source": [
    "Your answer here:\n",
    "\n",
    "![image.png](attachment:image.png)"
   ]
  },
  {
   "cell_type": "markdown",
   "metadata": {},
   "source": [
    "    1. On example 4 my partner's code the class TreeNode creates the binary tree by assigning a value on left or right. \n",
    "\n",
    "    2. Then it creates a function (bt_path) that returns an empty list if the list contains no root and therefore no child nodes, meaning that there is nothing more to search. \n",
    "\n",
    "    3. Inside this function there is a nested function called 'dfs' that: \n",
    "        (a) will append the value of the current node on a list called 'path', \n",
    "        (b) from there an if statement will ask if the node has no childs, if there are no childs then the 'path' list will be appendend to a 'paths' list. \n",
    "        (c) if the previous if is not met a second and third if will ask if there's a left or right child, and \n",
    "        (d) when one is found the 'dfs' function will call itself again, this time starting the search from the last child found and saving the node value on the 'path' list step (a). Eventually when it founds a leaf (node with no childs) it will add it to the 'paths' list step (b). When no more leafs are found the function returns the 'paths' list with all the paths found."
   ]
  },
  {
   "cell_type": "markdown",
   "metadata": {},
   "source": [
    "\n",
    "-   Copy the solution your partner wrote. \n"
   ]
  },
  {
   "cell_type": "code",
   "execution_count": 8,
   "metadata": {},
   "outputs": [],
   "source": [
    "# Your answer here\n",
    "\n",
    "from typing import List\n",
    "\n",
    "class TreeNode:\n",
    "    def __init__(self, val=0, left=None, right=None):\n",
    "        self.val = val\n",
    "        self.left = left\n",
    "        self.right = right\n",
    "\n",
    "def bt_path(root: TreeNode) -> List[List[int]]:\n",
    "    if not root:\n",
    "        return []\n",
    "\n",
    "    def dfs(node, path):\n",
    "        path.append(node.val)\n",
    "        if not node.left and not node.right:\n",
    "            paths.append(path)\n",
    "        if node.left:\n",
    "            dfs(node.left, path.copy())\n",
    "        if node.right:\n",
    "            dfs(node.right, path.copy())\n",
    "\n",
    "    paths = []\n",
    "    dfs(root, [])\n",
    "    return paths"
   ]
  },
  {
   "cell_type": "code",
   "execution_count": 9,
   "metadata": {},
   "outputs": [
    {
     "name": "stdout",
     "output_type": "stream",
     "text": [
      "[[5, 3, 2, 1], [5, 8, 7], [5, 8, 10]]\n"
     ]
    }
   ],
   "source": [
    "# Example 4\n",
    "root2 = TreeNode(5)\n",
    "root2.left = TreeNode(3)\n",
    "root2.right = TreeNode(8)\n",
    "root2.left.left = TreeNode(2)\n",
    "root2.left.left.left = TreeNode(1)\n",
    "root2.right.left = TreeNode(7)\n",
    "root2.right.right = TreeNode(10)\n",
    "print(bt_path(root2))"
   ]
  },
  {
   "cell_type": "markdown",
   "metadata": {},
   "source": [
    "\n",
    "-   Explain why their solution works in your own words.\n"
   ]
  },
  {
   "cell_type": "markdown",
   "metadata": {},
   "source": [
    "Your answer here:\n",
    "\n",
    "    The code works because it looks into each possible path from the root to each one of the roots, while at the same time keeping track of the paths so they don't get missed."
   ]
  },
  {
   "cell_type": "markdown",
   "metadata": {},
   "source": [
    "\n",
    "-   Explain the problem’s time and space complexity in your own words.\n"
   ]
  },
  {
   "cell_type": "markdown",
   "metadata": {},
   "source": [
    "Your answer here:\n",
    "\n",
    "    Given that my partner's code uses Depth First Search it has a time complexity of O(V+E), with 'V' being the number of Vertices (nodes) and 'E' the number of Edges (lines linking the nodes). This means that the time required will grow or reduce depending on the number of Vertices and Edges on a given graph.\n",
    "    \n",
    "    As for the space complexity is O(V) given that the DFS uses a callstack to track the nodes the space neded will depend on the total number of vertices, meaning that the \"worst\" case scenario is a graph where every node is a child of just one node, excluding the root.\n"
   ]
  },
  {
   "cell_type": "markdown",
   "metadata": {},
   "source": [
    "\n",
    "-   Critique your partner's solution, including explanation, and if there is anything that should be adjusted.\n"
   ]
  },
  {
   "cell_type": "markdown",
   "metadata": {},
   "source": [
    "Your answer here:\n",
    "\n",
    "    My partner's solution is pretty straighforward and simple to understand, it performs the work by looking into each path from the root to the leafs, as for adjustments if anything can be improved I think that some of the 'if' can be avoided, which he alraedy did in Section 2 of his assignment. \n",
    "    "
   ]
  },
  {
   "cell_type": "markdown",
   "metadata": {},
   "source": [
    "\n",
    "## Part 3:\n",
    "\n",
    "Please write a 200 word reflection documenting your process from assignment 1, and your presentation and review experience with your partner at the bottom of the Jupyter Notebook under a new heading \"Reflection.\" Again, export this Notebook as pdf.\n"
   ]
  },
  {
   "cell_type": "markdown",
   "metadata": {},
   "source": [
    "### Reflection"
   ]
  },
  {
   "cell_type": "markdown",
   "metadata": {},
   "source": [
    "Your answer here:\n",
    "\n",
    "    One thing I really like about algorithms is that it requires for you to reflect and really understand first the problem assigned to you. In my case my problem required to find the missing numbers from on a list sequence of numbers, which means that we have a Venn Diagram Problem P(AnB'), where we want to find all elements that are in A AND not in B, A∩B' (A intersect B'). Image below.\n",
    "    \n",
    "    To resolve this problem first we need to identify the reference list sequence by finding the largest number on a given list (n), this will be the A circle on the Venn diagram, given the largest number (n) a list is created, this list will be compared to obtain the intersection of the Venn Diagram, from this we also infer that all of the B circle will be inside the 'A' circle. From here we just need to identify which numbers from the 'A' circle are not in the 'B' circle.\n",
    "\n",
    "    As for my partner's problem the problem needed was to identify and track all the paths from the root to the leaves on a given graph for which my path to understanding it and its explanation is up on this notebook.\n"
   ]
  },
  {
   "attachments": {
    "image.png": {
     "image/png": "[encoded data removed]"
    }
   },
   "cell_type": "markdown",
   "metadata": {},
   "source": [
    "![image.png](attachment:image.png)"
   ]
  },
  {
   "cell_type": "markdown",
   "metadata": {},
   "source": [
    "\n",
    "## Evaluation Criteria\n",
    "\n",
    "We are looking for the similar points as Assignment 1\n",
    "\n",
    "-   Problem is accurately stated\n",
    "\n",
    "-   New example is correct and easily understandable\n",
    "\n",
    "-   Correctness, time, and space complexity of the coding solution\n",
    "\n",
    "-   Clarity in explaining why the solution works, its time and space complexity\n",
    "\n",
    "-   Quality of critique of your partner's assignment, if necessary\n"
   ]
  },
  {
   "cell_type": "markdown",
   "metadata": {},
   "source": [
    "## Submission Information\n",
    "\n",
    "🚨 **Please review our [Assignment Submission Guide](https://github.com/UofT-DSI/onboarding/blob/main/onboarding_documents/submissions.md)** 🚨 for detailed instructions on how to format, branch, and submit your work. Following these guidelines is crucial for your submissions to be evaluated correctly.\n",
    "\n",
    "### Submission Parameters:\n",
    "* Submission Due Date: `HH:MM AM/PM - DD/MM/YYYY`\n",
    "* The branch name for your repo should be: `assignment-2`\n",
    "* What to submit for this assignment:\n",
    "    * This Jupyter Notebook (assignment_2.ipynb) should be populated and should be the only change in your pull request.\n",
    "* What the pull request link should look like for this assignment: `https://github.com/<your_github_username>/algorithms_and_data_structures/pull/<pr_id>`\n",
    "    * Open a private window in your browser. Copy and paste the link to your pull request into the address bar. Make sure you can see your pull request properly. This helps the technical facilitator and learning support staff review your submission easily.\n",
    "\n",
    "Checklist:\n",
    "- [ ] Created a branch with the correct naming convention.\n",
    "- [ ] Ensured that the repository is public.\n",
    "- [ ] Reviewed the PR description guidelines and adhered to them.\n",
    "- [ ] Verify that the link is accessible in a private browser window.\n",
    "\n",
    "If you encounter any difficulties or have questions, please don't hesitate to reach out to our team via our Slack at `#cohort-3-help`. Our Technical Facilitators and Learning Support staff are here to help you navigate any challenges.\n"
   ]
  }
 ],
 "metadata": {
  "kernelspec": {
   "display_name": "dsi_participant",
   "language": "python",
   "name": "python3"
  },
  "language_info": {
   "codemirror_mode": {
    "name": "ipython",
    "version": 3
   },
   "file_extension": ".py",
   "mimetype": "text/x-python",
   "name": "python",
   "nbconvert_exporter": "python",
   "pygments_lexer": "ipython3",
   "version": "3.9.15"
  }
 },
 "nbformat": 4,
 "nbformat_minor": 2
}
